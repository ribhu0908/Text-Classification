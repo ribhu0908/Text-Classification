{
 "cells": [
  {
   "cell_type": "markdown",
   "metadata": {},
   "source": [
    "## Import the libraries"
   ]
  },
  {
   "cell_type": "code",
   "execution_count": 1,
   "metadata": {},
   "outputs": [],
   "source": [
    "import pandas as pd\n",
    "import os,sys\n",
    "from sklearn.model_selection import train_test_split\n",
    "import numpy as np\n",
    "import pandas as pd\n",
    "import matplotlib.pyplot as plt"
   ]
  },
  {
   "cell_type": "markdown",
   "metadata": {},
   "source": [
    "## Load data from 20_newspapers folder"
   ]
  },
  {
   "cell_type": "code",
   "execution_count": 2,
   "metadata": {},
   "outputs": [],
   "source": [
    "x=[]   #x is the list where 1st element is no. of document and second element is text in document\n",
    "y=[]   # y is the category of document\n",
    "for category in os.listdir(\"20_newsgroups\"):\n",
    "    for document in os.listdir(\"20_newsgroups/\"+category):\n",
    "        with open(\"20_newsgroups/\"+category+'/'+document, \"r\") as f:\n",
    "            x.append((document,f.read()))\n",
    "            y.append(category)"
   ]
  },
  {
   "cell_type": "code",
   "execution_count": 3,
   "metadata": {},
   "outputs": [
    {
     "name": "stdout",
     "output_type": "stream",
     "text": [
      "The total number of data Points:  19997 19997\n"
     ]
    }
   ],
   "source": [
    "print(\"The total number of data Points: \",len(x),len(y))"
   ]
  },
  {
   "cell_type": "code",
   "execution_count": 4,
   "metadata": {},
   "outputs": [
    {
     "name": "stdout",
     "output_type": "stream",
     "text": [
      "The classes/categories are:  {'rec.autos', 'comp.graphics', 'sci.crypt', 'talk.politics.mideast', 'talk.politics.misc', 'talk.politics.guns', 'comp.os.ms-windows.misc', 'alt.atheism', 'sci.space', 'rec.sport.hockey', 'comp.windows.x', 'rec.motorcycles', 'talk.religion.misc', 'soc.religion.christian', 'misc.forsale', 'comp.sys.ibm.pc.hardware', 'sci.electronics', 'rec.sport.baseball', 'sci.med', 'comp.sys.mac.hardware'}\n"
     ]
    }
   ],
   "source": [
    "#x stores the data\n",
    "#y stores the categories/class\n",
    "print(\"The classes/categories are: \",set(y))"
   ]
  },
  {
   "cell_type": "code",
   "execution_count": 5,
   "metadata": {},
   "outputs": [
    {
     "name": "stdout",
     "output_type": "stream",
     "text": [
      "14997 5000 14997 5000\n"
     ]
    }
   ],
   "source": [
    "#random splitting the data into train and test\n",
    "x_train,x_test,y_train,y_test= train_test_split(x,y)\n",
    "print( len(x_train), len(x_test), len(y_train), len(y_test))"
   ]
  },
  {
   "cell_type": "markdown",
   "metadata": {},
   "source": [
    "<b> LIST OF STOPWORDS </b>"
   ]
  },
  {
   "cell_type": "code",
   "execution_count": 6,
   "metadata": {},
   "outputs": [],
   "source": [
    "stop_words=[\"a\",\"about\",\"above\",\"after\",\"again\",\"against\",\"all\",\"am\",\"an\",\"and\",\"any\",\"are\",\"as\",\"at\",\"be\",\"because\",\"been\",\"before\",\"being\",\"below\",\"between\",\"both\",\"but\",\n",
    "\"by\",\"could\",\"did\",\"do\",\"does\",\"doing\",\"down\",\"during\",\"each\",\"few\",\"for\",\"from\",\"further\",\"had\",\"has\",\"have\",\"having\",\"he\",\"he'd\",\"he'll\",\"he's\",\"her\",\n",
    "\"here\",\"here's\",\"hers\",\"herself\",\"him\",\"himself\",\"his\",\"how\",\"how's\",\"i\",\"i'd\",\"i'll\",\"i'm\",\"i've\",\"if\",\"in\",\"into\",\"is\",\"it\",\"it's\",\"its\",\"itself\",\"let's\",\"me\",\n",
    "\"more\",\"most\",\"my\",\"myself\",\"nor\",\"of\",\"on\",\"once\",\"only\",\"or\",\"other\",\"ought\",\"our\",\"ours\",\"ourselves\",\"out\",\"over\",\"own\",\"same\",\"she\",\n",
    "\"she'd\",\"she'll\",\"she's\",\"should\",\"so\",\"some\",\"such\",\"than\",\"that\",\"that's\",\"the\",\"their\",\"theirs\",\"them\",\"themselves\",\"then\",\"there\",\"there's\",\n",
    "\"these\",\"they\",\"they'd\",\"they'll\",\"they're\",\"they've\",\"this\",\"those\",\"through\",\"to\",\"too\",\"under\",\"until\",\"up\",\"very\",\"was\",\"we\",\"we'd\",\n",
    "\"we'll\",\"we're\",\"we've\",\"were\",\"what\",\"what's\",\"when\",\"when's\",\"where\",\"where's\",\"which\",\"while\",\"who\",\"who's\",\"whom\",\"why\",\"why's\",\"with\",\n",
    "\"would\",\"you\",\"you'd\",\"you'll\",\"you're\",\"you've\",\"your\",\"yours\",\"yourself\",\"yourselves\"]"
   ]
  },
  {
   "cell_type": "markdown",
   "metadata": {},
   "source": [
    "## CREATE THE VOCABOLARY FROM TRAINING DATA"
   ]
  },
  {
   "cell_type": "code",
   "execution_count": 7,
   "metadata": {},
   "outputs": [
    {
     "data": {
      "text/plain": [
       "92772"
      ]
     },
     "execution_count": 7,
     "metadata": {},
     "output_type": "execute_result"
    }
   ],
   "source": [
    "import re,string\n",
    "import operator\n",
    "dic={}    #words with coreesonding frequency\n",
    "for i in range (len(x_train)):\n",
    "    word=x_train[i][1].lower()\n",
    "    stripped=re.split(r'\\W+',word)\n",
    "    for s in stripped:\n",
    "        if not (s.isalpha()) or s in stop_words or len(s)<=2:\n",
    "            continue\n",
    "        if s in dic:\n",
    "            dic[s]+=1\n",
    "        else:\n",
    "            dic[s]=1\n",
    "sorted_dic = sorted(dic.items(), key=operator.itemgetter(1),reverse=True) #list of words & freq in desc order\n",
    "len(sorted_dic)"
   ]
  },
  {
   "cell_type": "code",
   "execution_count": 9,
   "metadata": {},
   "outputs": [
    {
     "data": {
      "text/plain": [
       "<function matplotlib.pyplot.show(*args, **kw)>"
      ]
     },
     "execution_count": 9,
     "metadata": {},
     "output_type": "execute_result"
    },
    {
     "data": {
      "image/png": "[encoded data removed]",
      "text/plain": [
       "<Figure size 432x288 with 1 Axes>"
      ]
     },
     "metadata": {
      "needs_background": "light"
     },
     "output_type": "display_data"
    }
   ],
   "source": [
    "#No of words vs frequency graph\n",
    "features=sorted_dic\n",
    "ans1=[]\n",
    "ans2=[]\n",
    "for i in range (len(features)):\n",
    "    ans1.append(i)\n",
    "    ans2.append(features[i][1])\n",
    "plt.plot(ans1,ans2)\n",
    "plt.axis([0,8000,1,2000])\n",
    "plt.title(\"No of words vs frequency\")\n",
    "plt.xlabel(\"No of words\")\n",
    "plt.ylabel(\"frequency\")\n",
    "plt.grid()\n",
    "plt.show"
   ]
  },
  {
   "cell_type": "code",
   "execution_count": 10,
   "metadata": {},
   "outputs": [],
   "source": [
    "#Select the top 2000 words: frequency and put into vocabulary-dictionary(Since, they matter)\n",
    "#vocabulary is implemented as dict due to O(1) search time\n",
    "vocabulary= {}\n",
    "for i in range(2000):\n",
    "    vocabulary[features[i][0]]= features[i][1]"
   ]
  },
  {
   "cell_type": "markdown",
   "metadata": {},
   "source": [
    "## CREATE THE DATASET"
   ]
  },
  {
   "cell_type": "code",
   "execution_count": 10,
   "metadata": {},
   "outputs": [],
   "source": [
    "def createDataSet(x):\n",
    "    \n",
    "    columns= list(vocabulary.keys())\n",
    "    dataSet= np.zeros((len(x), len(columns))) #create a zero array\n",
    "    for i in range(len(x)): #go through each document\n",
    "        words=x[i][1].lower()\n",
    "        word=re.split(r'\\W+',words)\n",
    "        for j in word:\n",
    "            if j in vocabulary: #if present in the vocab, add in dataSet and increase frequency\n",
    "                 dataSet[i][columns.index(j)]+=1\n",
    "    return dataSet             "
   ]
  },
  {
   "cell_type": "code",
   "execution_count": 11,
   "metadata": {},
   "outputs": [],
   "source": [
    "x_train_data= createDataSet(x_train)"
   ]
  },
  {
   "cell_type": "code",
   "execution_count": 12,
   "metadata": {},
   "outputs": [],
   "source": [
    "x_test_data= createDataSet(x_test)"
   ]
  },
  {
   "cell_type": "code",
   "execution_count": 13,
   "metadata": {},
   "outputs": [
    {
     "data": {
      "text/html": [
       "<div>\n",
       "<style scoped>\n",
       "    .dataframe tbody tr th:only-of-type {\n",
       "        vertical-align: middle;\n",
       "    }\n",
       "\n",
       "    .dataframe tbody tr th {\n",
       "        vertical-align: top;\n",
       "    }\n",
       "\n",
       "    .dataframe thead th {\n",
       "        text-align: right;\n",
       "    }\n",
       "</style>\n",
       "<table border=\"1\" class=\"dataframe\">\n",
       "  <thead>\n",
       "    <tr style=\"text-align: right;\">\n",
       "      <th></th>\n",
       "      <th>edu</th>\n",
       "      <th>cmu</th>\n",
       "      <th>com</th>\n",
       "      <th>news</th>\n",
       "      <th>not</th>\n",
       "      <th>srv</th>\n",
       "      <th>cantaloupe</th>\n",
       "      <th>net</th>\n",
       "      <th>message</th>\n",
       "      <th>subject</th>\n",
       "      <th>...</th>\n",
       "      <th>bedfellow</th>\n",
       "      <th>apc</th>\n",
       "      <th>brother</th>\n",
       "      <th>holocaust</th>\n",
       "      <th>operating</th>\n",
       "      <th>minor</th>\n",
       "      <th>davidians</th>\n",
       "      <th>hst</th>\n",
       "      <th>active</th>\n",
       "      <th>client</th>\n",
       "    </tr>\n",
       "  </thead>\n",
       "  <tbody>\n",
       "    <tr>\n",
       "      <th>0</th>\n",
       "      <td>9.0</td>\n",
       "      <td>4.0</td>\n",
       "      <td>9.0</td>\n",
       "      <td>0.0</td>\n",
       "      <td>3.0</td>\n",
       "      <td>3.0</td>\n",
       "      <td>2.0</td>\n",
       "      <td>1.0</td>\n",
       "      <td>1.0</td>\n",
       "      <td>1.0</td>\n",
       "      <td>...</td>\n",
       "      <td>0.0</td>\n",
       "      <td>0.0</td>\n",
       "      <td>0.0</td>\n",
       "      <td>0.0</td>\n",
       "      <td>0.0</td>\n",
       "      <td>0.0</td>\n",
       "      <td>0.0</td>\n",
       "      <td>0.0</td>\n",
       "      <td>0.0</td>\n",
       "      <td>0.0</td>\n",
       "    </tr>\n",
       "    <tr>\n",
       "      <th>1</th>\n",
       "      <td>5.0</td>\n",
       "      <td>3.0</td>\n",
       "      <td>8.0</td>\n",
       "      <td>1.0</td>\n",
       "      <td>2.0</td>\n",
       "      <td>2.0</td>\n",
       "      <td>1.0</td>\n",
       "      <td>1.0</td>\n",
       "      <td>1.0</td>\n",
       "      <td>1.0</td>\n",
       "      <td>...</td>\n",
       "      <td>0.0</td>\n",
       "      <td>0.0</td>\n",
       "      <td>0.0</td>\n",
       "      <td>0.0</td>\n",
       "      <td>0.0</td>\n",
       "      <td>0.0</td>\n",
       "      <td>0.0</td>\n",
       "      <td>0.0</td>\n",
       "      <td>0.0</td>\n",
       "      <td>1.0</td>\n",
       "    </tr>\n",
       "    <tr>\n",
       "      <th>2</th>\n",
       "      <td>13.0</td>\n",
       "      <td>4.0</td>\n",
       "      <td>4.0</td>\n",
       "      <td>4.0</td>\n",
       "      <td>9.0</td>\n",
       "      <td>2.0</td>\n",
       "      <td>1.0</td>\n",
       "      <td>1.0</td>\n",
       "      <td>1.0</td>\n",
       "      <td>1.0</td>\n",
       "      <td>...</td>\n",
       "      <td>0.0</td>\n",
       "      <td>0.0</td>\n",
       "      <td>0.0</td>\n",
       "      <td>0.0</td>\n",
       "      <td>0.0</td>\n",
       "      <td>0.0</td>\n",
       "      <td>0.0</td>\n",
       "      <td>0.0</td>\n",
       "      <td>0.0</td>\n",
       "      <td>0.0</td>\n",
       "    </tr>\n",
       "    <tr>\n",
       "      <th>3</th>\n",
       "      <td>7.0</td>\n",
       "      <td>1.0</td>\n",
       "      <td>0.0</td>\n",
       "      <td>3.0</td>\n",
       "      <td>1.0</td>\n",
       "      <td>1.0</td>\n",
       "      <td>1.0</td>\n",
       "      <td>0.0</td>\n",
       "      <td>1.0</td>\n",
       "      <td>1.0</td>\n",
       "      <td>...</td>\n",
       "      <td>0.0</td>\n",
       "      <td>0.0</td>\n",
       "      <td>0.0</td>\n",
       "      <td>0.0</td>\n",
       "      <td>0.0</td>\n",
       "      <td>0.0</td>\n",
       "      <td>0.0</td>\n",
       "      <td>0.0</td>\n",
       "      <td>0.0</td>\n",
       "      <td>0.0</td>\n",
       "    </tr>\n",
       "    <tr>\n",
       "      <th>4</th>\n",
       "      <td>4.0</td>\n",
       "      <td>3.0</td>\n",
       "      <td>9.0</td>\n",
       "      <td>0.0</td>\n",
       "      <td>1.0</td>\n",
       "      <td>2.0</td>\n",
       "      <td>1.0</td>\n",
       "      <td>0.0</td>\n",
       "      <td>1.0</td>\n",
       "      <td>2.0</td>\n",
       "      <td>...</td>\n",
       "      <td>0.0</td>\n",
       "      <td>0.0</td>\n",
       "      <td>0.0</td>\n",
       "      <td>0.0</td>\n",
       "      <td>0.0</td>\n",
       "      <td>0.0</td>\n",
       "      <td>0.0</td>\n",
       "      <td>0.0</td>\n",
       "      <td>0.0</td>\n",
       "      <td>0.0</td>\n",
       "    </tr>\n",
       "    <tr>\n",
       "      <th>...</th>\n",
       "      <td>...</td>\n",
       "      <td>...</td>\n",
       "      <td>...</td>\n",
       "      <td>...</td>\n",
       "      <td>...</td>\n",
       "      <td>...</td>\n",
       "      <td>...</td>\n",
       "      <td>...</td>\n",
       "      <td>...</td>\n",
       "      <td>...</td>\n",
       "      <td>...</td>\n",
       "      <td>...</td>\n",
       "      <td>...</td>\n",
       "      <td>...</td>\n",
       "      <td>...</td>\n",
       "      <td>...</td>\n",
       "      <td>...</td>\n",
       "      <td>...</td>\n",
       "      <td>...</td>\n",
       "      <td>...</td>\n",
       "      <td>...</td>\n",
       "    </tr>\n",
       "    <tr>\n",
       "      <th>14992</th>\n",
       "      <td>8.0</td>\n",
       "      <td>4.0</td>\n",
       "      <td>1.0</td>\n",
       "      <td>3.0</td>\n",
       "      <td>0.0</td>\n",
       "      <td>1.0</td>\n",
       "      <td>1.0</td>\n",
       "      <td>1.0</td>\n",
       "      <td>1.0</td>\n",
       "      <td>1.0</td>\n",
       "      <td>...</td>\n",
       "      <td>0.0</td>\n",
       "      <td>0.0</td>\n",
       "      <td>0.0</td>\n",
       "      <td>0.0</td>\n",
       "      <td>0.0</td>\n",
       "      <td>0.0</td>\n",
       "      <td>0.0</td>\n",
       "      <td>0.0</td>\n",
       "      <td>0.0</td>\n",
       "      <td>0.0</td>\n",
       "    </tr>\n",
       "    <tr>\n",
       "      <th>14993</th>\n",
       "      <td>12.0</td>\n",
       "      <td>2.0</td>\n",
       "      <td>0.0</td>\n",
       "      <td>1.0</td>\n",
       "      <td>0.0</td>\n",
       "      <td>1.0</td>\n",
       "      <td>1.0</td>\n",
       "      <td>0.0</td>\n",
       "      <td>1.0</td>\n",
       "      <td>1.0</td>\n",
       "      <td>...</td>\n",
       "      <td>0.0</td>\n",
       "      <td>0.0</td>\n",
       "      <td>0.0</td>\n",
       "      <td>0.0</td>\n",
       "      <td>0.0</td>\n",
       "      <td>0.0</td>\n",
       "      <td>0.0</td>\n",
       "      <td>0.0</td>\n",
       "      <td>0.0</td>\n",
       "      <td>0.0</td>\n",
       "    </tr>\n",
       "    <tr>\n",
       "      <th>14994</th>\n",
       "      <td>14.0</td>\n",
       "      <td>1.0</td>\n",
       "      <td>0.0</td>\n",
       "      <td>2.0</td>\n",
       "      <td>1.0</td>\n",
       "      <td>1.0</td>\n",
       "      <td>1.0</td>\n",
       "      <td>3.0</td>\n",
       "      <td>1.0</td>\n",
       "      <td>1.0</td>\n",
       "      <td>...</td>\n",
       "      <td>0.0</td>\n",
       "      <td>0.0</td>\n",
       "      <td>0.0</td>\n",
       "      <td>0.0</td>\n",
       "      <td>0.0</td>\n",
       "      <td>0.0</td>\n",
       "      <td>0.0</td>\n",
       "      <td>0.0</td>\n",
       "      <td>0.0</td>\n",
       "      <td>0.0</td>\n",
       "    </tr>\n",
       "    <tr>\n",
       "      <th>14995</th>\n",
       "      <td>3.0</td>\n",
       "      <td>1.0</td>\n",
       "      <td>0.0</td>\n",
       "      <td>1.0</td>\n",
       "      <td>0.0</td>\n",
       "      <td>1.0</td>\n",
       "      <td>1.0</td>\n",
       "      <td>7.0</td>\n",
       "      <td>1.0</td>\n",
       "      <td>1.0</td>\n",
       "      <td>...</td>\n",
       "      <td>0.0</td>\n",
       "      <td>0.0</td>\n",
       "      <td>0.0</td>\n",
       "      <td>0.0</td>\n",
       "      <td>0.0</td>\n",
       "      <td>0.0</td>\n",
       "      <td>0.0</td>\n",
       "      <td>0.0</td>\n",
       "      <td>0.0</td>\n",
       "      <td>0.0</td>\n",
       "    </tr>\n",
       "    <tr>\n",
       "      <th>14996</th>\n",
       "      <td>9.0</td>\n",
       "      <td>1.0</td>\n",
       "      <td>1.0</td>\n",
       "      <td>2.0</td>\n",
       "      <td>1.0</td>\n",
       "      <td>1.0</td>\n",
       "      <td>1.0</td>\n",
       "      <td>1.0</td>\n",
       "      <td>1.0</td>\n",
       "      <td>1.0</td>\n",
       "      <td>...</td>\n",
       "      <td>0.0</td>\n",
       "      <td>0.0</td>\n",
       "      <td>0.0</td>\n",
       "      <td>0.0</td>\n",
       "      <td>0.0</td>\n",
       "      <td>0.0</td>\n",
       "      <td>0.0</td>\n",
       "      <td>0.0</td>\n",
       "      <td>0.0</td>\n",
       "      <td>0.0</td>\n",
       "    </tr>\n",
       "  </tbody>\n",
       "</table>\n",
       "<p>14997 rows × 2000 columns</p>\n",
       "</div>"
      ],
      "text/plain": [
       "        edu  cmu  com  news  not  srv  cantaloupe  net  message  subject  ...  \\\n",
       "0       9.0  4.0  9.0   0.0  3.0  3.0         2.0  1.0      1.0      1.0  ...   \n",
       "1       5.0  3.0  8.0   1.0  2.0  2.0         1.0  1.0      1.0      1.0  ...   \n",
       "2      13.0  4.0  4.0   4.0  9.0  2.0         1.0  1.0      1.0      1.0  ...   \n",
       "3       7.0  1.0  0.0   3.0  1.0  1.0         1.0  0.0      1.0      1.0  ...   \n",
       "4       4.0  3.0  9.0   0.0  1.0  2.0         1.0  0.0      1.0      2.0  ...   \n",
       "...     ...  ...  ...   ...  ...  ...         ...  ...      ...      ...  ...   \n",
       "14992   8.0  4.0  1.0   3.0  0.0  1.0         1.0  1.0      1.0      1.0  ...   \n",
       "14993  12.0  2.0  0.0   1.0  0.0  1.0         1.0  0.0      1.0      1.0  ...   \n",
       "14994  14.0  1.0  0.0   2.0  1.0  1.0         1.0  3.0      1.0      1.0  ...   \n",
       "14995   3.0  1.0  0.0   1.0  0.0  1.0         1.0  7.0      1.0      1.0  ...   \n",
       "14996   9.0  1.0  1.0   2.0  1.0  1.0         1.0  1.0      1.0      1.0  ...   \n",
       "\n",
       "       bedfellow  apc  brother  holocaust  operating  minor  davidians  hst  \\\n",
       "0            0.0  0.0      0.0        0.0        0.0    0.0        0.0  0.0   \n",
       "1            0.0  0.0      0.0        0.0        0.0    0.0        0.0  0.0   \n",
       "2            0.0  0.0      0.0        0.0        0.0    0.0        0.0  0.0   \n",
       "3            0.0  0.0      0.0        0.0        0.0    0.0        0.0  0.0   \n",
       "4            0.0  0.0      0.0        0.0        0.0    0.0        0.0  0.0   \n",
       "...          ...  ...      ...        ...        ...    ...        ...  ...   \n",
       "14992        0.0  0.0      0.0        0.0        0.0    0.0        0.0  0.0   \n",
       "14993        0.0  0.0      0.0        0.0        0.0    0.0        0.0  0.0   \n",
       "14994        0.0  0.0      0.0        0.0        0.0    0.0        0.0  0.0   \n",
       "14995        0.0  0.0      0.0        0.0        0.0    0.0        0.0  0.0   \n",
       "14996        0.0  0.0      0.0        0.0        0.0    0.0        0.0  0.0   \n",
       "\n",
       "       active  client  \n",
       "0         0.0     0.0  \n",
       "1         0.0     1.0  \n",
       "2         0.0     0.0  \n",
       "3         0.0     0.0  \n",
       "4         0.0     0.0  \n",
       "...       ...     ...  \n",
       "14992     0.0     0.0  \n",
       "14993     0.0     0.0  \n",
       "14994     0.0     0.0  \n",
       "14995     0.0     0.0  \n",
       "14996     0.0     0.0  \n",
       "\n",
       "[14997 rows x 2000 columns]"
      ]
     },
     "execution_count": 13,
     "metadata": {},
     "output_type": "execute_result"
    }
   ],
   "source": [
    "#converting a numPy 2D array into dataFrame(for easy visualisation)\n",
    "df_xtrain = pd.DataFrame(x_train_data, columns= vocabulary.keys())\n",
    "df_xtrain"
   ]
  },
  {
   "cell_type": "code",
   "execution_count": 14,
   "metadata": {},
   "outputs": [],
   "source": [
    "y_train_data = np.array(y_train) \n",
    "y_test_data = np.array(y_test) "
   ]
  },
  {
   "cell_type": "code",
   "execution_count": 15,
   "metadata": {},
   "outputs": [
    {
     "data": {
      "text/plain": [
       "array(['comp.sys.ibm.pc.hardware', 'rec.sport.baseball',\n",
       "       'comp.sys.mac.hardware', ..., 'alt.atheism', 'talk.religion.misc',\n",
       "       'rec.motorcycles'], dtype='<U24')"
      ]
     },
     "execution_count": 15,
     "metadata": {},
     "output_type": "execute_result"
    }
   ],
   "source": [
    "y_test_data"
   ]
  },
  {
   "cell_type": "markdown",
   "metadata": {},
   "source": [
    "<b><u> x_train_data, x_test_data, y_train_data, y_test_data are the DataSets in the required format </u></b>"
   ]
  },
  {
   "cell_type": "markdown",
   "metadata": {},
   "source": [
    "# Using Sklearn Multinomial Naive Bayes "
   ]
  },
  {
   "cell_type": "code",
   "execution_count": 16,
   "metadata": {},
   "outputs": [
    {
     "name": "stdout",
     "output_type": "stream",
     "text": [
      "ACCURACY OF SKLEARN NAIVEBAYES:  0.8666\n"
     ]
    }
   ],
   "source": [
    "from sklearn.naive_bayes import MultinomialNB\n",
    "from sklearn.metrics import classification_report, confusion_matrix\n",
    "clf = MultinomialNB()\n",
    "clf.fit(x_train_data, y_train_data)\n",
    "y_pred = clf.predict(x_test_data)\n",
    "print(\"ACCURACY OF SKLEARN NAIVEBAYES: \",clf.score(x_test_data,y_test_data))"
   ]
  },
  {
   "cell_type": "code",
   "execution_count": 17,
   "metadata": {},
   "outputs": [
    {
     "name": "stdout",
     "output_type": "stream",
     "text": [
      "                          precision    recall  f1-score   support\n",
      "\n",
      "             alt.atheism       0.79      0.82      0.81       257\n",
      "           comp.graphics       0.86      0.76      0.81       248\n",
      " comp.os.ms-windows.misc       0.85      0.84      0.85       251\n",
      "comp.sys.ibm.pc.hardware       0.74      0.82      0.78       218\n",
      "   comp.sys.mac.hardware       0.83      0.90      0.86       255\n",
      "          comp.windows.x       0.89      0.76      0.82       232\n",
      "            misc.forsale       0.78      0.94      0.85       245\n",
      "               rec.autos       0.88      0.91      0.89       232\n",
      "         rec.motorcycles       0.91      0.96      0.93       254\n",
      "      rec.sport.baseball       0.94      0.92      0.93       266\n",
      "        rec.sport.hockey       0.94      0.93      0.93       241\n",
      "               sci.crypt       0.98      0.95      0.96       256\n",
      "         sci.electronics       0.85      0.91      0.88       264\n",
      "                 sci.med       0.96      0.89      0.92       230\n",
      "               sci.space       0.95      0.91      0.93       257\n",
      "  soc.religion.christian       0.94      1.00      0.97       258\n",
      "      talk.politics.guns       0.82      0.92      0.87       268\n",
      "   talk.politics.mideast       0.95      0.88      0.92       248\n",
      "      talk.politics.misc       0.80      0.72      0.76       255\n",
      "      talk.religion.misc       0.70      0.60      0.65       265\n",
      "\n",
      "                accuracy                           0.87      5000\n",
      "               macro avg       0.87      0.87      0.87      5000\n",
      "            weighted avg       0.87      0.87      0.87      5000\n",
      "\n",
      "[[212   0   0   0   0   0   1   1   2   0   0   0   0   1   1   2   0   1\n",
      "    0  36]\n",
      " [  0 188  12  20   7   6   7   2   1   0   0   1   2   0   2   0   0   0\n",
      "    0   0]\n",
      " [  0   4 211  15   1  14   4   0   0   0   0   0   1   0   1   0   0   0\n",
      "    0   0]\n",
      " [  0   4   2 179  27   1   2   0   0   0   0   0   3   0   0   0   0   0\n",
      "    0   0]\n",
      " [  0   3   2  12 229   0   5   0   0   0   0   0   4   0   0   0   0   0\n",
      "    0   0]\n",
      " [  0  12  19   8   4 177   4   0   2   0   1   0   2   2   1   0   0   0\n",
      "    0   0]\n",
      " [  0   0   0   3   2   0 231   3   2   0   0   0   3   0   0   0   1   0\n",
      "    0   0]\n",
      " [  0   0   0   0   0   0   9 210   4   0   1   0   7   0   0   0   0   0\n",
      "    0   1]\n",
      " [  0   0   0   0   0   1   5   4 243   0   0   0   0   1   0   0   0   0\n",
      "    0   0]\n",
      " [  0   0   0   0   0   0   3   3   2 244  12   0   0   0   2   0   0   0\n",
      "    0   0]\n",
      " [  0   0   0   0   0   0   4   2   0  11 223   0   0   0   0   0   0   0\n",
      "    1   0]\n",
      " [  0   2   1   0   0   1   1   0   0   0   0 243   6   1   0   0   1   0\n",
      "    0   0]\n",
      " [  0   0   0   4   6   0   3   6   1   0   0   0 239   2   2   0   0   1\n",
      "    0   0]\n",
      " [  0   2   0   1   1   0   7   0   5   0   0   0   6 205   1   0   0   1\n",
      "    0   1]\n",
      " [  1   4   0   0   0   0   2   3   0   4   0   0   7   1 233   0   0   0\n",
      "    2   0]\n",
      " [  0   0   0   0   0   0   0   0   0   0   0   0   0   0   0 258   0   0\n",
      "    0   0]\n",
      " [  0   0   0   0   0   0   0   1   2   0   0   3   0   0   0   0 246   0\n",
      "   11   5]\n",
      " [  0   0   0   0   0   0   5   3   2   0   0   0   0   0   0   0   7 219\n",
      "   11   1]\n",
      " [  0   0   0   0   0   0   3   0   0   0   0   1   0   1   1   1  32   7\n",
      "  183  26]\n",
      " [ 56   0   0   0   0   0   1   0   0   0   0   0   0   0   0  13  13   1\n",
      "   21 160]]\n"
     ]
    }
   ],
   "source": [
    "print(classification_report(y_test_data,y_pred))\n",
    "print(confusion_matrix(y_test_data,y_pred))"
   ]
  },
  {
   "cell_type": "markdown",
   "metadata": {},
   "source": [
    "## Implementing our NAIVE BAYES CLASSIFIER"
   ]
  },
  {
   "cell_type": "code",
   "execution_count": 18,
   "metadata": {},
   "outputs": [],
   "source": [
    "#create dictionary from the training data\n",
    "def fit(x_train,y_train):\n",
    "    result={}\n",
    "    class_values = set(y_train) #distinct class values\n",
    "    for current_class in class_values:\n",
    "        result[current_class] = {}\n",
    "        result[\"total_docs\"]= x_train.shape[0] #total_docs: total num of documents\n",
    "        current_class_rows = (y_train == current_class) #returns true/false array\n",
    "        x_train_current = x_train[current_class_rows] #X_train_current is the array of rows with the specified class\n",
    "        y_train_current = y_train[current_class_rows] #Y_train_current is the y with the specified class\n",
    "        num_features = x_train.shape[1] #2000 words\n",
    "        total_count=0 \n",
    "        for j in range(num_features): #go through all the words\n",
    "            count = x_train_current[:,j].sum() #No of Wi in current class\n",
    "            result[current_class][j]= count\n",
    "            total_count= total_count+count\n",
    "        result[current_class][\"count_words_class\"]= total_count #No of words in currentClass\n",
    "        result[current_class][\"count_docs_class\"]= x_train_current.shape[0] #No of documents of the class\n",
    "    return result"
   ]
  },
  {
   "cell_type": "code",
   "execution_count": 19,
   "metadata": {},
   "outputs": [],
   "source": [
    "#computes log probability of the current class\n",
    "def probability(dictionary, x, current_class):\n",
    "    output = np.log(dictionary[current_class][\"count_docs_class\"]) - np.log(dictionary[\"total_docs\"]) #P(y=c1)\n",
    "    num_features = len(dictionary[current_class].keys()) - 2; #sice last 2 are (count_words_class & count_docs_class)\n",
    "    \n",
    "    #go through each feature\n",
    "    #compute PI( P(Wj= wj / y=ci))\n",
    "    for j in range(num_features):\n",
    "        xj = x[j] #freq of that word\n",
    "        if xj==0: #if word doesnt exist in input\n",
    "            continue\n",
    "        count_current_class_with_value_xj = dictionary[current_class][j] + 1 #add Laplace correction\n",
    "        count_current_class = dictionary[current_class][\"count_words_class\"] + num_features \n",
    "        current_xj_probability = np.log(count_current_class_with_value_xj) - np.log(count_current_class)\n",
    "        current_xj_probability= xj * current_xj_probability #log(m^n)= nlog(m)\n",
    "        output = output + current_xj_probability\n",
    "    return output"
   ]
  },
  {
   "cell_type": "code",
   "execution_count": 20,
   "metadata": {},
   "outputs": [],
   "source": [
    "#predict class for a single row of input\n",
    "def predictSinglePoint(dictionary, x):\n",
    "    classes = dictionary.keys()\n",
    "    best_p = -1000\n",
    "    best_class = -1\n",
    "    first_run = True\n",
    "    for current_class in classes:\n",
    "        if (current_class == \"total_docs\"): #Since,total_docs is also a key\n",
    "            continue\n",
    "        #find prob for every class and choose the class with max Prob\n",
    "        p_current_class = probability(dictionary, x, current_class) \n",
    "        if (first_run or p_current_class > best_p):\n",
    "            best_p = p_current_class\n",
    "            best_class = current_class\n",
    "        first_run = False\n",
    "    return best_class"
   ]
  },
  {
   "cell_type": "code",
   "execution_count": 21,
   "metadata": {},
   "outputs": [],
   "source": [
    "def predict(dictionary, x_test):\n",
    "    y_pred = []\n",
    "    for x in x_test:\n",
    "        x_class = predictSinglePoint(dictionary, x) #predict y for a single row of input\n",
    "        y_pred.append(x_class)\n",
    "    return y_pred"
   ]
  },
  {
   "cell_type": "markdown",
   "metadata": {},
   "source": [
    "## Use our Naive Bayes Classifier to predict test data"
   ]
  },
  {
   "cell_type": "code",
   "execution_count": 22,
   "metadata": {},
   "outputs": [],
   "source": [
    "#the fit function returns the dictionary from the training data\n",
    "dictionary = fit(x_train_data,y_train_data)"
   ]
  },
  {
   "cell_type": "code",
   "execution_count": 23,
   "metadata": {},
   "outputs": [],
   "source": [
    "#predict function returns the Y_pred, takes dictionary as input\n",
    "y_pred = predict(dictionary,x_test_data)"
   ]
  },
  {
   "cell_type": "code",
   "execution_count": 24,
   "metadata": {},
   "outputs": [
    {
     "name": "stdout",
     "output_type": "stream",
     "text": [
      "Accuracy Score : 0.8666\n"
     ]
    }
   ],
   "source": [
    "from sklearn.metrics import accuracy_score \n",
    "print ('Accuracy Score :',accuracy_score(y_test_data, y_pred))"
   ]
  },
  {
   "cell_type": "code",
   "execution_count": 25,
   "metadata": {},
   "outputs": [
    {
     "name": "stdout",
     "output_type": "stream",
     "text": [
      "                          precision    recall  f1-score   support\n",
      "\n",
      "             alt.atheism       0.79      0.82      0.81       257\n",
      "           comp.graphics       0.86      0.76      0.81       248\n",
      " comp.os.ms-windows.misc       0.85      0.84      0.85       251\n",
      "comp.sys.ibm.pc.hardware       0.74      0.82      0.78       218\n",
      "   comp.sys.mac.hardware       0.83      0.90      0.86       255\n",
      "          comp.windows.x       0.89      0.76      0.82       232\n",
      "            misc.forsale       0.78      0.94      0.85       245\n",
      "               rec.autos       0.88      0.91      0.89       232\n",
      "         rec.motorcycles       0.91      0.96      0.93       254\n",
      "      rec.sport.baseball       0.94      0.92      0.93       266\n",
      "        rec.sport.hockey       0.94      0.93      0.93       241\n",
      "               sci.crypt       0.98      0.95      0.96       256\n",
      "         sci.electronics       0.85      0.91      0.88       264\n",
      "                 sci.med       0.96      0.89      0.92       230\n",
      "               sci.space       0.95      0.91      0.93       257\n",
      "  soc.religion.christian       0.94      1.00      0.97       258\n",
      "      talk.politics.guns       0.82      0.92      0.87       268\n",
      "   talk.politics.mideast       0.95      0.88      0.92       248\n",
      "      talk.politics.misc       0.80      0.72      0.76       255\n",
      "      talk.religion.misc       0.70      0.60      0.65       265\n",
      "\n",
      "                accuracy                           0.87      5000\n",
      "               macro avg       0.87      0.87      0.87      5000\n",
      "            weighted avg       0.87      0.87      0.87      5000\n",
      "\n",
      "[[212   0   0   0   0   0   1   1   2   0   0   0   0   1   1   2   0   1\n",
      "    0  36]\n",
      " [  0 188  12  20   7   6   7   2   1   0   0   1   2   0   2   0   0   0\n",
      "    0   0]\n",
      " [  0   4 211  15   1  14   4   0   0   0   0   0   1   0   1   0   0   0\n",
      "    0   0]\n",
      " [  0   4   2 179  27   1   2   0   0   0   0   0   3   0   0   0   0   0\n",
      "    0   0]\n",
      " [  0   3   2  12 229   0   5   0   0   0   0   0   4   0   0   0   0   0\n",
      "    0   0]\n",
      " [  0  12  19   8   4 177   4   0   2   0   1   0   2   2   1   0   0   0\n",
      "    0   0]\n",
      " [  0   0   0   3   2   0 231   3   2   0   0   0   3   0   0   0   1   0\n",
      "    0   0]\n",
      " [  0   0   0   0   0   0   9 210   4   0   1   0   7   0   0   0   0   0\n",
      "    0   1]\n",
      " [  0   0   0   0   0   1   5   4 243   0   0   0   0   1   0   0   0   0\n",
      "    0   0]\n",
      " [  0   0   0   0   0   0   3   3   2 244  12   0   0   0   2   0   0   0\n",
      "    0   0]\n",
      " [  0   0   0   0   0   0   4   2   0  11 223   0   0   0   0   0   0   0\n",
      "    1   0]\n",
      " [  0   2   1   0   0   1   1   0   0   0   0 243   6   1   0   0   1   0\n",
      "    0   0]\n",
      " [  0   0   0   4   6   0   3   6   1   0   0   0 239   2   2   0   0   1\n",
      "    0   0]\n",
      " [  0   2   0   1   1   0   7   0   5   0   0   0   6 205   1   0   0   1\n",
      "    0   1]\n",
      " [  1   4   0   0   0   0   2   3   0   4   0   0   7   1 233   0   0   0\n",
      "    2   0]\n",
      " [  0   0   0   0   0   0   0   0   0   0   0   0   0   0   0 258   0   0\n",
      "    0   0]\n",
      " [  0   0   0   0   0   0   0   1   2   0   0   3   0   0   0   0 246   0\n",
      "   11   5]\n",
      " [  0   0   0   0   0   0   5   3   2   0   0   0   0   0   0   0   7 219\n",
      "   11   1]\n",
      " [  0   0   0   0   0   0   3   0   0   0   0   1   0   1   1   1  32   7\n",
      "  183  26]\n",
      " [ 56   0   0   0   0   0   1   0   0   0   0   0   0   0   0  13  13   1\n",
      "   21 160]]\n"
     ]
    }
   ],
   "source": [
    "print(classification_report(y_test_data,y_pred))\n",
    "print(confusion_matrix(y_test_data,y_pred))"
   ]
  },
  {
   "cell_type": "markdown",
   "metadata": {},
   "source": [
    "## Conclusion"
   ]
  },
  {
   "cell_type": "markdown",
   "metadata": {},
   "source": [
    "<b> Sklearn Multinomial Naive Bayes and Our Naive Bayes implementation gave exactly the same accuracy and confusion Matrix. The accuracy largely depends on the selection of words(preprocessing of data)"
   ]
  },
  {
   "cell_type": "code",
   "execution_count": null,
   "metadata": {},
   "outputs": [],
   "source": []
  }
 ],
 "metadata": {
  "kernelspec": {
   "display_name": "Python 3",
   "language": "python",
   "name": "python3"
  },
  "language_info": {
   "codemirror_mode": {
    "name": "ipython",
    "version": 3
   },
   "file_extension": ".py",
   "mimetype": "text/x-python",
   "name": "python",
   "nbconvert_exporter": "python",
   "pygments_lexer": "ipython3",
   "version": "3.7.6"
  }
 },
 "nbformat": 4,
 "nbformat_minor": 4
}
